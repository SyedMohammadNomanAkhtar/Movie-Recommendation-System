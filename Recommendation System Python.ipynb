{
 "cells": [
  {
   "cell_type": "code",
   "execution_count": 1,
   "id": "e50b215b",
   "metadata": {
    "ExecuteTime": {
     "end_time": "2022-06-29T14:07:55.743699Z",
     "start_time": "2022-06-29T14:07:30.418711Z"
    }
   },
   "outputs": [],
   "source": [
    "#Importing all the required libraries\n",
    "import pandas as pd\n",
    "import numpy as np\n",
    "from sklearn.feature_extraction.text import  TfidfVectorizer\n",
    "from sklearn.metrics.pairwise import linear_kernel"
   ]
  },
  {
   "cell_type": "code",
   "execution_count": 2,
   "id": "5c50ee01",
   "metadata": {
    "ExecuteTime": {
     "end_time": "2022-06-29T14:08:00.518443Z",
     "start_time": "2022-06-29T14:07:59.316255Z"
    }
   },
   "outputs": [],
   "source": [
    "#Reading the datasets downloaded from kaggle\n",
    "credits = pd.read_csv('tmdb_5000_credits.csv')\n",
    "movies = pd.read_csv('tmdb_5000_movies.csv')"
   ]
  },
  {
   "cell_type": "code",
   "execution_count": 3,
   "id": "0b212140",
   "metadata": {
    "ExecuteTime": {
     "end_time": "2022-06-29T14:08:03.983383Z",
     "start_time": "2022-06-29T14:08:03.963382Z"
    }
   },
   "outputs": [
    {
     "data": {
      "text/plain": [
       "Index(['movie_id', 'title', 'cast', 'crew'], dtype='object')"
      ]
     },
     "execution_count": 3,
     "metadata": {},
     "output_type": "execute_result"
    }
   ],
   "source": [
    "#View Column first dataset\n",
    "credits.columns"
   ]
  },
  {
   "cell_type": "code",
   "execution_count": 4,
   "id": "9084f05a",
   "metadata": {
    "ExecuteTime": {
     "end_time": "2022-06-29T14:08:08.709925Z",
     "start_time": "2022-06-29T14:08:08.697923Z"
    }
   },
   "outputs": [
    {
     "data": {
      "text/plain": [
       "Index(['budget', 'genres', 'homepage', 'id', 'keywords', 'original_language',\n",
       "       'original_title', 'overview', 'popularity', 'production_companies',\n",
       "       'production_countries', 'release_date', 'revenue', 'runtime',\n",
       "       'spoken_languages', 'status', 'tagline', 'title', 'vote_average',\n",
       "       'vote_count'],\n",
       "      dtype='object')"
      ]
     },
     "execution_count": 4,
     "metadata": {},
     "output_type": "execute_result"
    }
   ],
   "source": [
    "#View Column second dataset\n",
    "movies.columns"
   ]
  },
  {
   "cell_type": "code",
   "execution_count": 5,
   "id": "b8f43bdb",
   "metadata": {
    "ExecuteTime": {
     "end_time": "2022-06-29T14:08:13.534774Z",
     "start_time": "2022-06-29T14:08:13.393156Z"
    }
   },
   "outputs": [],
   "source": [
    "#As the datasets are saperate so at first we need to cobine them\n",
    "credits.columns = ['id', 'title', 'cast', 'crew']\n",
    "movies = movies.merge(credits, on='id')"
   ]
  },
  {
   "cell_type": "code",
   "execution_count": 6,
   "id": "892328dc",
   "metadata": {
    "ExecuteTime": {
     "end_time": "2022-06-29T14:08:17.925514Z",
     "start_time": "2022-06-29T14:08:17.907514Z"
    }
   },
   "outputs": [
    {
     "data": {
      "text/plain": [
       "0    In the 22nd century, a paraplegic Marine is di...\n",
       "1    Captain Barbossa, long believed to be dead, ha...\n",
       "2    A cryptic message from Bond’s past sends him o...\n",
       "3    Following the death of District Attorney Harve...\n",
       "4    John Carter is a war-weary, former military ca...\n",
       "Name: overview, dtype: object"
      ]
     },
     "execution_count": 6,
     "metadata": {},
     "output_type": "execute_result"
    }
   ],
   "source": [
    "# The overview column contains description for each movie.\n",
    "movies['overview'].head(5)"
   ]
  },
  {
   "cell_type": "code",
   "execution_count": 7,
   "id": "706fe94f",
   "metadata": {
    "ExecuteTime": {
     "end_time": "2022-06-29T14:08:22.610722Z",
     "start_time": "2022-06-29T14:08:22.601726Z"
    }
   },
   "outputs": [],
   "source": [
    "#replace NaN values with empty strings\n",
    "movies['overview'] = movies['overview'].fillna('')"
   ]
  },
  {
   "cell_type": "code",
   "execution_count": 8,
   "id": "e8379452",
   "metadata": {
    "ExecuteTime": {
     "end_time": "2022-06-29T14:08:27.892317Z",
     "start_time": "2022-06-29T14:08:27.691303Z"
    }
   },
   "outputs": [],
   "source": [
    "#using movie descriptions, the keywords associated with the movie and the genre column\n",
    "def create_join(x):\n",
    "    return ''.join(x['keywords']) + '' + ''.join(x['genres']) + '' + ''.join(x['overview'])\n",
    "movies['join'] = movies.apply(create_join, axis=1)"
   ]
  },
  {
   "cell_type": "code",
   "execution_count": 9,
   "id": "2211a7da",
   "metadata": {
    "ExecuteTime": {
     "end_time": "2022-06-29T14:08:33.087656Z",
     "start_time": "2022-06-29T14:08:31.971446Z"
    }
   },
   "outputs": [
    {
     "data": {
      "text/plain": [
       "(4803, 32768)"
      ]
     },
     "execution_count": 9,
     "metadata": {},
     "output_type": "execute_result"
    }
   ],
   "source": [
    "#Creating TF-IDF using scikit-learn\n",
    "tfidf = TfidfVectorizer(stop_words=\"english\")\n",
    "tfidf_matrices = tfidf.fit_transform(movies['join'])\n",
    "tfidf_matrices.shape"
   ]
  },
  {
   "cell_type": "code",
   "execution_count": 10,
   "id": "89e39caa",
   "metadata": {
    "ExecuteTime": {
     "end_time": "2022-06-29T14:08:38.277653Z",
     "start_time": "2022-06-29T14:08:37.470438Z"
    }
   },
   "outputs": [],
   "source": [
    "# Using Cosine Similarity but we can use euclidean or any other method\n",
    "# instead of cosine_similarity we are using linear_kernel because it is faster works exactly the same\n",
    "cosine_similarity = linear_kernel(tfidf_matrices,tfidf_matrices)"
   ]
  },
  {
   "cell_type": "code",
   "execution_count": 12,
   "id": "4891390e",
   "metadata": {
    "ExecuteTime": {
     "end_time": "2022-06-29T14:08:52.780922Z",
     "start_time": "2022-06-29T14:08:52.682421Z"
    }
   },
   "outputs": [],
   "source": [
    "#Construct a reverse map of indices and movie titles\n",
    "indices = pd.Series(movies.index, index=credits['title']).drop_duplicates()"
   ]
  },
  {
   "cell_type": "code",
   "execution_count": 28,
   "id": "d0a9c39c",
   "metadata": {
    "ExecuteTime": {
     "end_time": "2022-06-29T15:29:07.563637Z",
     "start_time": "2022-06-29T15:29:07.555637Z"
    }
   },
   "outputs": [],
   "source": [
    "def Recommendation_get(title, cosine_similarity = cosine_similarity):\n",
    "    idx = indices[title]\n",
    "    similar_scores = list(enumerate(cosine_similarity[idx]))\n",
    "    similar_scores = sorted(similar_scores, key = lambda x: x[1], reverse = True)\n",
    "    similar_scores = similar_scores[1:21]\n",
    "    movie_indices = [i[0] for i in similar_scores]\n",
    "    return credits['title'].iloc[movie_indices]"
   ]
  },
  {
   "cell_type": "code",
   "execution_count": 41,
   "id": "d8cb8bcc",
   "metadata": {
    "ExecuteTime": {
     "end_time": "2022-06-29T15:38:09.507745Z",
     "start_time": "2022-06-29T15:38:05.413695Z"
    }
   },
   "outputs": [
    {
     "name": "stdout",
     "output_type": "stream",
     "text": [
      "Enter a movie title that you watched recently: Titanic\n",
      "\t\n",
      "If you like that then you might like these .........\n"
     ]
    },
    {
     "data": {
      "text/plain": [
       "104                                        Poseidon\n",
       "2902                                       Triangle\n",
       "1269                              Raise the Titanic\n",
       "818                                Captain Phillips\n",
       "1          Pirates of the Caribbean: At World's End\n",
       "310                         In the Heart of the Sea\n",
       "770                                   Event Horizon\n",
       "17      Pirates of the Caribbean: On Stranger Tides\n",
       "2428                              Brooklyn's Finest\n",
       "3696                    Four Weddings and a Funeral\n",
       "1170                        The Talented Mr. Ripley\n",
       "2442                                Southland Tales\n",
       "106                                 Shrek the Third\n",
       "2217                       Everyone Says I Love You\n",
       "216                                      Life of Pi\n",
       "2935                                       Brooklyn\n",
       "2493                                  The Immigrant\n",
       "3568                   20,000 Leagues Under the Sea\n",
       "3746                              The Boy Next Door\n",
       "1291                       The Time Traveler's Wife\n",
       "Name: title, dtype: object"
      ]
     },
     "execution_count": 41,
     "metadata": {},
     "output_type": "execute_result"
    }
   ],
   "source": [
    "title = input(str('Enter a movie title that you watched recently: '))\n",
    "print(\"\\t\")\n",
    "print(\"If you like that then you might like these .........\")\n",
    "Recommendation_get(title, cosine_similarity)"
   ]
  }
 ],
 "metadata": {
  "hide_input": false,
  "kernelspec": {
   "display_name": "Python 3 (ipykernel)",
   "language": "python",
   "name": "python3"
  },
  "language_info": {
   "codemirror_mode": {
    "name": "ipython",
    "version": 3
   },
   "file_extension": ".py",
   "mimetype": "text/x-python",
   "name": "python",
   "nbconvert_exporter": "python",
   "pygments_lexer": "ipython3",
   "version": "3.9.7"
  }
 },
 "nbformat": 4,
 "nbformat_minor": 5
}
